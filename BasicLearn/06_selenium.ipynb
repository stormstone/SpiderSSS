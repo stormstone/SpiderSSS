{
 "cells": [
  {
   "cell_type": "markdown",
   "metadata": {},
   "source": [
    "# Selenium库基本使用\n",
    "- https://cuiqingcai.com/5630.html\n",
    "\n",
    "Selenium 是一个自动化测试工具，利用它可以驱动浏览器执行特定的动作，如点击、下拉等操作，同时还可以获取浏览器当前呈现的页面的源代码，做到可见即可爬。对于一些 JavaScript 动态渲染的页面来说，此种抓取方式非常有效。\n",
    "\n",
    "在开始之前，请确保已经正确安装好了 Chrome 浏览器并配置好了 ChromeDriver。另外，还需要正确安装好 Python 的 Selenium 库。\n",
    "\n",
    "- ChromeDriver 的安装: https://cuiqingcai.com/5135.html"
   ]
  },
  {
   "cell_type": "markdown",
   "metadata": {},
   "source": [
    "## 基本使用\n",
    "一个例子演示基本使用。"
   ]
  },
  {
   "cell_type": "code",
   "execution_count": 18,
   "metadata": {},
   "outputs": [
    {
     "name": "stdout",
     "output_type": "stream",
     "text": [
      "https://www.baidu.com/s?ie=utf-8&f=8&rsv_bp=1&rsv_idx=1&tn=baidu&wd=Python&fenlei=256&rsv_pq=9cd702790005a879&rsv_t=71cdnNYC7CmOyQZXQu7yi%2B8EsPO0hPjOsZUL74tGCmai0gnQoektUg7LkcE&rqlang=cn&rsv_enter=1&rsv_dl=tb&rsv_sug3=6&rsv_sug2=0&rsv_btype=i&inputT=89&rsv_sug4=90&rsv_jmp=fail\n",
      "[{'domain': '.baidu.com', 'expiry': 1626338143, 'httpOnly': False, 'name': 'BA_HECTOR', 'path': '/', 'secure': False, 'value': 'ad818la48h800lch4j1gevpaf0r'}, {'domain': 'www.baidu.com', 'expiry': 1657870543, 'httpOnly': False, 'name': 'COOKIE_SESSION', 'path': '/', 'secure': False, 'value': '0_0_0_1_0_0_0_0_0_0_0_0_0_0_0_0_0_0_1626334542%7C1%230_0_1626334542%7C1'}, {'domain': '.baidu.com', 'httpOnly': False, 'name': 'H_PS_PSSID', 'path': '/', 'secure': False, 'value': '34267_33764_33967_34222_31254_34004_34107_34094_26350'}, {'domain': '.baidu.com', 'httpOnly': False, 'name': 'PSINO', 'path': '/', 'secure': False, 'value': '6'}, {'domain': '.baidu.com', 'expiry': 3773818186, 'httpOnly': False, 'name': 'PSTM', 'path': '/', 'secure': False, 'value': '1626334539'}, {'domain': '.baidu.com', 'expiry': 3773818186, 'httpOnly': False, 'name': 'BIDUPSID', 'path': '/', 'secure': False, 'value': '15CDFF4AFF1DB52ECAEAEDE8AD37324D'}, {'domain': 'www.baidu.com', 'httpOnly': False, 'name': 'BD_CK_SAM', 'path': '/', 'secure': False, 'value': '1'}, {'domain': '.baidu.com', 'expiry': 1657870539, 'httpOnly': False, 'name': 'BAIDUID', 'path': '/', 'secure': False, 'value': '15CDFF4AFF1DB52E165D8E1B94AEF599:FG=1'}, {'domain': '.baidu.com', 'expiry': 1626420943, 'httpOnly': False, 'name': 'BDORZ', 'path': '/', 'secure': False, 'value': 'B490B5EBF6F3CD402E515D22BCDA1598'}, {'domain': '.baidu.com', 'httpOnly': False, 'name': 'delPer', 'path': '/', 'secure': False, 'value': '0'}, {'domain': 'www.baidu.com', 'expiry': 1626337135, 'httpOnly': False, 'name': 'H_PS_645EC', 'path': '/', 'secure': False, 'value': '6501doYSWW0wO4bdXHlY0jr3V7vdw%2BuuWTiAcH9NCDxV45ljJYq6NvicD%2BA'}, {'domain': 'www.baidu.com', 'expiry': 1627198543, 'httpOnly': False, 'name': 'BD_UPN', 'path': '/', 'secure': False, 'value': '12314753'}, {'domain': 'www.baidu.com', 'httpOnly': False, 'name': 'BD_HOME', 'path': '/', 'secure': False, 'value': '1'}]\n",
      "['CDwindow-059A2A8E74E5BDD4161C043744066E74', 'CDwindow-901881EA4D602CBE427C5DC800868D23']\n"
     ]
    },
    {
     "name": "stderr",
     "output_type": "stream",
     "text": [
      "D:\\env\\anaconda\\lib\\site-packages\\ipykernel_launcher.py:46: DeprecationWarning: use driver.switch_to.window instead\n",
      "D:\\env\\anaconda\\lib\\site-packages\\ipykernel_launcher.py:49: DeprecationWarning: use driver.switch_to.window instead\n"
     ]
    }
   ],
   "source": [
    "import time\n",
    "from selenium import webdriver\n",
    "from selenium.webdriver.common.by import By\n",
    "from selenium.webdriver.common.keys import Keys\n",
    "from selenium.webdriver.support import expected_conditions as EC\n",
    "from selenium.webdriver.support.wait import WebDriverWait\n",
    "\n",
    "# 声明浏览器对象\n",
    "browser = webdriver.Chrome()\n",
    "# browser = webdriver.Firefox()\n",
    "# browser = webdriver.Edge()\n",
    "# browser = webdriver.PhantomJS()\n",
    "# browser = webdriver.Safari()\n",
    "\n",
    "try:\n",
    "    # 访问页面\n",
    "    browser.get('https://www.baidu.com')\n",
    "\n",
    "    # 查找单个节点\n",
    "    input = browser.find_element_by_id('kw')\n",
    "\n",
    "    # 节点交互\n",
    "    input.send_keys('Python')\n",
    "    input.send_keys(Keys.ENTER)\n",
    "\n",
    "    # 等待页面加载（显示等待）\n",
    "    wait = WebDriverWait(browser, 10)\n",
    "    # 一直等待 直到获取到页面对象\n",
    "    wait.until(EC.presence_of_element_located((By.ID, 'content_left')))\n",
    "\n",
    "    # 获取url\n",
    "    print(browser.current_url)\n",
    "    # 获取cookies\n",
    "    print(browser.get_cookies())\n",
    "    \n",
    "    # 前进和后退\n",
    "    browser.back()\n",
    "    time.sleep(2)\n",
    "    browser.forward()\n",
    "    time.sleep(2) \n",
    "\n",
    "    # 执行js\n",
    "    browser.execute_script('window.open()')\n",
    "    # tab页管理\n",
    "    print(browser.window_handles)\n",
    "    browser.switch_to_window(browser.window_handles[1])\n",
    "    browser.get('https://www.taobao.com')\n",
    "    time.sleep(2)\n",
    "    browser.switch_to_window(browser.window_handles[0])\n",
    "    time.sleep(2)\n",
    "finally:\n",
    "    # 关闭当前tab\n",
    "    browser.close()\n",
    "    time.sleep(2)\n",
    "    # 关闭浏览器\n",
    "    browser.quit()"
   ]
  },
  {
   "cell_type": "code",
   "execution_count": null,
   "metadata": {},
   "outputs": [],
   "source": []
  }
 ],
 "metadata": {
  "kernelspec": {
   "display_name": "Python 3",
   "language": "python",
   "name": "python3"
  },
  "language_info": {
   "codemirror_mode": {
    "name": "ipython",
    "version": 3
   },
   "file_extension": ".py",
   "mimetype": "text/x-python",
   "name": "python",
   "nbconvert_exporter": "python",
   "pygments_lexer": "ipython3",
   "version": "3.7.6"
  }
 },
 "nbformat": 4,
 "nbformat_minor": 4
}
