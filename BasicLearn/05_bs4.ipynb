{
 "cells": [
  {
   "cell_type": "markdown",
   "metadata": {},
   "source": [
    "# BeautifulSoup解析库基本使用\n",
    "- https://cuiqingcai.com/5548.html\n",
    "\n",
    "前面介绍了正则表达式的相关用法，但是一旦正则表达式写的有问题，得到的可能就不是我们想要的结果了。而且对于一个网页来说，都有一定的特殊结构和层级关系，而且很多节点都有 id 或 class 来作区分，所以借助它们的结构和属性来提取不也可以吗？\n",
    "\n",
    "Beautiful Soup，它借助网页的结构和属性等特性来解析网页。有了它，我们不用再去写一些复杂的正则表达式，只需要简单的几条语句，就可以完成网页中某个元素的提取。\n",
    "\n",
    "简单来说，Beautiful Soup 就是 Python 的一个 HTML 或 XML 的解析库，可以用它来方便地从网页中提取数据。官方解释如下：\n",
    "> Beautiful Soup 提供一些简单的、Python 式的函数来处理导航、搜索、修改分析树等功能。它是一个工具箱，通过解析文档为用户提供需要抓取的数据，因为简单，所以不需要多少代码就可以写出一个完整的应用程序。\n",
    "> \n",
    "> Beautiful Soup 自动将输入文档转换为 Unicode 编码，输出文档转换为 UTF-8 编码。你不需要考虑编码方式，除非文档没有指定一个编码方式，这时你仅仅需要说明一下原始编码方式就可以了。\n",
    ">\n",
    "> Beautiful Soup 已成为和 lxml、html6lib 一样出色的 Python 解释器，为用户灵活地提供不同的解析策略或强劲的速度。"
   ]
  },
  {
   "cell_type": "markdown",
   "metadata": {},
   "source": [
    "## 解析器\n",
    "Beautiful Soup 在解析时实际上依赖解析器，它除了支持 Python 标准库中的 HTML 解析器外，还支持一些第三方解析器（比如 lxml）。表 4-3 列出了 Beautiful Soup 支持的解析器。\n",
    "\n",
    "Beautiful Soup 支持的解析器：\n",
    "- Python 标准库：BeautifulSoup(markup, \"html.parser\")\n",
    "- lxml HTML 解析器：BeautifulSoup(markup, \"lxml\")\n",
    "- lxml XML 解析器：BeautifulSoup(markup, \"xml\")\n",
    "- html5lib：BeautifulSoup(markup, \"html5lib\")\n",
    "\n",
    "\n",
    "lxml 解析器有解析 HTML 和 XML 的功能，而且速度快，容错能力强，所以推荐使用它。\n"
   ]
  },
  {
   "cell_type": "markdown",
   "metadata": {},
   "source": [
    "## 基本用法"
   ]
  },
  {
   "cell_type": "code",
   "execution_count": 2,
   "metadata": {},
   "outputs": [],
   "source": [
    "html = \"\"\"\n",
    "<html><head><title>The Dormouse's story</title></head>\n",
    "<body>\n",
    "<p class=\"title\" name=\"dromouse\"><b>The Dormouse's story</b></p>\n",
    "<p class=\"story\">Once upon a time there were three little sisters; and their names were\n",
    "<a href=\"http://example.com/elsie\" class=\"sister\" id=\"link1\"><!-- Elsie --></a>,\n",
    "<a href=\"http://example.com/lacie\" class=\"sister\" id=\"link2\">Lacie</a> and\n",
    "<a href=\"http://example.com/tillie\" class=\"sister\" id=\"link3\">Tillie</a>;\n",
    "and they lived at the bottom of a well.</p>\n",
    "<p class=\"story\">...</p>\n",
    "\"\"\""
   ]
  },
  {
   "cell_type": "code",
   "execution_count": 8,
   "metadata": {},
   "outputs": [
    {
     "name": "stdout",
     "output_type": "stream",
     "text": [
      "<bound method Tag.prettify of <html><head><title>The Dormouse's story</title></head>\n",
      "<body>\n",
      "<p class=\"title\" name=\"dromouse\"><b>The Dormouse's story</b></p>\n",
      "<p class=\"story\">Once upon a time there were three little sisters; and their names were\n",
      "<a class=\"sister\" href=\"http://example.com/elsie\" id=\"link1\"><!-- Elsie --></a>,\n",
      "<a class=\"sister\" href=\"http://example.com/lacie\" id=\"link2\">Lacie</a> and\n",
      "<a class=\"sister\" href=\"http://example.com/tillie\" id=\"link3\">Tillie</a>;\n",
      "and they lived at the bottom of a well.</p>\n",
      "<p class=\"story\">...</p>\n",
      "</body></html>>\n",
      "<title>The Dormouse's story</title>\n",
      "title\n",
      "The Dormouse's story\n",
      "head\n",
      "['title']\n",
      "[<a class=\"sister\" href=\"http://example.com/elsie\" id=\"link1\"><!-- Elsie --></a>, <a class=\"sister\" href=\"http://example.com/lacie\" id=\"link2\">Lacie</a>, <a class=\"sister\" href=\"http://example.com/tillie\" id=\"link3\">Tillie</a>]\n",
      "<a class=\"sister\" href=\"http://example.com/tillie\" id=\"link3\">Tillie</a>\n",
      "http://example.com/elsie\n",
      "http://example.com/lacie\n",
      "http://example.com/tillie\n"
     ]
    }
   ],
   "source": [
    "# 创建 beautifulsoup 对象\n",
    "soup = BeautifulSoup(html)\n",
    "# 打印一下 soup 对象的内容，格式化输出\n",
    "print(soup.prettify)\n",
    "\n",
    "# 结构化数据解析\n",
    "print(soup.title)  # 获取title\n",
    "print(soup.title.name)  # title标签名称\n",
    "print(soup.title.string)  # title标签内容\n",
    "print(soup.title.parent.name)  # 父标签\n",
    "print(soup.p['class'])  # 属性获取\n",
    "print(soup.find_all('a'))  # 查找所有标签\n",
    "print(soup.find(id=\"link3\"))  # 通过id查找\n",
    "for link in soup.find_all('a'):  # 遍历获取所有a标签\n",
    "    print(link.get('href'))  # 获取a标签href属性\n"
   ]
  },
  {
   "cell_type": "markdown",
   "metadata": {},
   "source": [
    "## 其他\n",
    "### 对象的种类\n",
    "\n",
    "Beautiful Soup将复杂HTML文档转换成一个复杂的树形结构,每个节点都是Python对象,所有对象可以归纳为4种:\n",
    "\n",
    "- Tag：`Tag` 对象与XML或HTML原生文档中的tag相同（就是 HTML 中的一个个标签）。\n",
    "  - Name：每个tag都有自己的名字\n",
    "  - Attributes：一个tag可能有很多个属性\n",
    "- NavigableString：可以遍历的字符串。得到了标签的内容，要想获取标签内部的文字，用 .string 即可。\n",
    "- BeautifulSoup：`BeautifulSoup` 对象表示的是一个文档的全部内容.大部分时候,可以把它当作 `Tag` 对象,它支持 [遍历文档树](https://beautifulsoup.readthedocs.io/zh_CN/latest/#id18) 和 [搜索文档树](https://beautifulsoup.readthedocs.io/zh_CN/latest/#id27) 中描述的大部分的方法.\n",
    "- Comment：`Comment` 对象是一个特殊类型的 `NavigableString` 对象----注释及特殊字符串。\n",
    "\n",
    "### 遍历文档树\n",
    "\n",
    "- 直接子节点：\n",
    "  - .contents：tag 的 .content 属性可以将tag的子节点以列表的方式输出\n",
    "  - .children：它返回的不是一个 list，不过我们可以通过遍历获取所有子节点。\n",
    "- 所有子孙节点：.descendants\n",
    "- 父节点：.parent\n",
    "- 全部父节点：.parents\n",
    "- 兄弟节点：.next_sibling（下一个兄弟节点）  .previous_sibling（上一个兄弟节点）\n",
    "- 全部兄弟节点：.next_siblings  .previous_siblings\n",
    "- 前后节点：.next_element  .previous_element。并不是针对于兄弟节点，而是在所有节点，不分层次。\n",
    "- 所有前后节点：.next_elements  .previous_elements 属性\n",
    "\n",
    "### 搜索文档树 find_\n",
    "\n",
    "对于上面所有层级节点（父、子、兄弟），都有对应的find方法。搜索当前tag的所有tag子节点,并判断是否符合过滤器的条件\n",
    "\n",
    "​\t\tfind_*( name , attrs , recursive , text , **kwargs )\n",
    "\n",
    "### CSS选择器 soup.select()\n",
    "\n",
    "- 通过标签名查找：soup.select('title')、soup.select('a')\n",
    "- 通过类名查找：soup.select('.sister') \n",
    "- 通过 id 名查找：soup.select('#link1')\n",
    "- 组合查找：soup.select('p #link1')，多个条件通过空格分开\n",
    "- 属性查找：soup.select('a[class=\"sister\"]')\n",
    "\n"
   ]
  },
  {
   "cell_type": "markdown",
   "metadata": {},
   "source": [
    "### 其他更多用法参见官方文档！\n",
    "\n",
    "Beautiful Soup官方文档：https://beautifulsoup.readthedocs.io/zh_CN/latest/\n",
    "\n"
   ]
  },
  {
   "cell_type": "code",
   "execution_count": null,
   "metadata": {},
   "outputs": [],
   "source": []
  }
 ],
 "metadata": {
  "kernelspec": {
   "display_name": "Python 3",
   "language": "python",
   "name": "python3"
  },
  "language_info": {
   "codemirror_mode": {
    "name": "ipython",
    "version": 3
   },
   "file_extension": ".py",
   "mimetype": "text/x-python",
   "name": "python",
   "nbconvert_exporter": "python",
   "pygments_lexer": "ipython3",
   "version": "3.7.6"
  }
 },
 "nbformat": 4,
 "nbformat_minor": 4
}
