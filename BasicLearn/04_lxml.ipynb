{
 "cells": [
  {
   "cell_type": "markdown",
   "metadata": {},
   "source": [
    "# lxml解析库基本使用\n",
    "- https://cuiqingcai.com/5545.html"
   ]
  },
  {
   "cell_type": "markdown",
   "metadata": {},
   "source": [
    "## XPath\n",
    "XPath，全称 XML Path Language，即 XML 路径语言，它是一门在 XML 文档中查找信息的语言。它最初是用来搜寻 XML 文档的，但是它同样适用于 HTML 文档的搜索。\n",
    "\n",
    "所以在做爬虫时，我们完全可以使用 XPath 来做相应的信息抽取。\n",
    "\n",
    "XPath 的选择功能十分强大，它提供了非常简洁明了的路径选择表达式。另外，它还提供了超过 100 个内建函数，用于字符串、数值、时间的匹配以及节点、序列的处理等。几乎所有我们想要定位的节点，都可以用 XPath 来选择。\n",
    "\n",
    "XPath 于 1999 年 11 月 16 日成为 W3C 标准，它被设计为供 XSLT、XPointer 以及其他 XML 解析软件使用，更多的文档可以访问其官方网站：https://www.w3.org/TR/xpath/。\n",
    "\n",
    "### 基本概念\n",
    "#### 节点关系\n",
    "父（Parent）、子（Children）、同胞（Sibling）、先辈（Ancestor）、后代（Descendant）。\n",
    "\n",
    "#### 选取节点\n",
    "XPath 使用路径表达式在 XML 文档中选取节点。节点是通过沿着路径或者 step 来选取的。\n",
    "\n",
    "#### 七种类型的节点\n",
    "元素、属性、文本、命名空间、处理指令、注释以及文档节点（或称为根节点）。\n",
    "\n",
    "### 基本表达式\n",
    "\n",
    "| 表达式   | 描述                                                       |\n",
    "| :------- | :--------------------------------------------------------- |\n",
    "| nodename | 选取此节点的所有子节点。                                   |\n",
    "| /        | 从根节点选取。                                             |\n",
    "| //       | 从匹配选择的当前节点选择文档中的节点，而不考虑它们的位置。 |\n",
    "| .        | 选取当前节点。                                             |\n",
    "| ..       | 选取当前节点的父节点。                                     |\n",
    "| @        | 选取属性。                                                 |\n",
    "\n",
    "### 谓语\n",
    "谓语用来查找某个特定的节点或者包含某个指定的值的节点。谓语被嵌在方括号中。\n",
    "\n",
    "|             路径表达式             |                             结果                             |\n",
    "| :--------------------------------: | :----------------------------------------------------------: |\n",
    "|         /bookstore/book[1]         |        选取属于 bookstore 子元素的第一个 book 元素。         |\n",
    "|      /bookstore/book[last()]       |       选取属于 bookstore 子元素的最后一个 book 元素。        |\n",
    "|     /bookstore/book[last()-1]      |      选取属于 bookstore 子元素的倒数第二个 book 元素。       |\n",
    "|   /bookstore/book[position()<3]    |  选取最前面的两个属于 bookstore 元素的子元素的 book 元素。   |\n",
    "|           //title[@lang]           |         选取所有拥有名为 lang 的属性的 title 元素。          |\n",
    "|        //title[@lang=’eng’]        |  选取所有 title 元素，且这些元素拥有值为 eng 的 lang 属性。  |\n",
    "|    /bookstore/book[price>35.00]    | 选取 bookstore 元素的所有 book 元素，且其中的 price 元素的值须大于 35.00。 |\n",
    "| /bookstore/book[price>35.00]/title | 选取 bookstore 元素中的 book 元素的所有 title 元素，且其中的 price 元素的值须大于 35.00。 |\n",
    "\n",
    "### 选取未知节点\n",
    "\n",
    "XPath 通配符可用来选取未知的 XML 元素。\n",
    "\n",
    "| 通配符 |         描述         |\n",
    "| :----: | :------------------: |\n",
    "|   *    |  匹配任何元素节点。  |\n",
    "|   @*   |  匹配任何属性节点。  |\n",
    "| node() | 匹配任何类型的节点。 |\n",
    "\n",
    "### 选取若干路径\n",
    "通过在路径表达式中使用“|”运算符，您可以选取若干个路径。\n",
    "\n",
    "|            路径表达式            |                             结果                             |\n",
    "| :------------------------------: | :----------------------------------------------------------: |\n",
    "|   //book/title \\| //book/price   |          选取 book 元素的所有 title 和 price 元素。          |\n",
    "|        //title \\| //price        |            选取文档中的所有 title 和 price 元素。            |\n",
    "| /bookstore/book/title \\| //price | 选取属于 bookstore 元素的 book 元素的所有 title 元素，以及文档中所有的 price 元素。 |\n",
    "\n",
    "### 运算符\n",
    "\n",
    "|、+、-、*、div（除法）、=、!=、<、<=、>、>=、or、and、mod\n"
   ]
  },
  {
   "cell_type": "markdown",
   "metadata": {},
   "source": [
    "## lxml基本用法"
   ]
  },
  {
   "cell_type": "code",
   "execution_count": 1,
   "metadata": {},
   "outputs": [
    {
     "name": "stdout",
     "output_type": "stream",
     "text": [
      "<html><body><div>\n",
      "    <ul>\n",
      "         <li class=\"item-0\"><a href=\"link1.html\">first item</a></li>\n",
      "         <li class=\"item-1\"><a href=\"link2.html\">second item</a></li>\n",
      "         <li class=\"item-inactive\"><a href=\"link3.html\">third item</a></li>\n",
      "         <li class=\"item-1\"><a href=\"link4.html\">fourth item</a></li>\n",
      "         <li class=\"item-0\"><a href=\"link5.html\">fifth item</a>\n",
      "     </li></ul>\n",
      " </div>\n",
      "</body></html>\n"
     ]
    }
   ],
   "source": [
    "from lxml import etree\n",
    "text = '''\n",
    "<div>\n",
    "    <ul>\n",
    "         <li class=\"item-0\"><a href=\"link1.html\">first item</a></li>\n",
    "         <li class=\"item-1\"><a href=\"link2.html\">second item</a></li>\n",
    "         <li class=\"item-inactive\"><a href=\"link3.html\">third item</a></li>\n",
    "         <li class=\"item-1\"><a href=\"link4.html\">fourth item</a></li>\n",
    "         <li class=\"item-0\"><a href=\"link5.html\">fifth item</a>\n",
    "     </ul>\n",
    " </div>\n",
    "'''\n",
    "html = etree.HTML(text)\n",
    "result = etree.tostring(html)\n",
    "print(result.decode('utf-8'))"
   ]
  },
  {
   "cell_type": "markdown",
   "metadata": {},
   "source": [
    "### 所有节点\n",
    "我们一般会用 // 开头的 XPath 规则来选取所有符合要求的节点。这里以前面的 HTML 文本为例，如果要选取所有节点，可以这样实现："
   ]
  },
  {
   "cell_type": "code",
   "execution_count": 2,
   "metadata": {},
   "outputs": [
    {
     "name": "stdout",
     "output_type": "stream",
     "text": [
      "[<Element html at 0x1e244fb2788>, <Element body at 0x1e245095e48>, <Element div at 0x1e245095d48>, <Element ul at 0x1e24509d048>, <Element li at 0x1e24509d088>, <Element a at 0x1e24509d148>, <Element li at 0x1e24509d188>, <Element a at 0x1e24509d1c8>, <Element li at 0x1e24509d208>, <Element a at 0x1e24509d108>, <Element li at 0x1e24509d248>, <Element a at 0x1e24509d288>, <Element li at 0x1e24509d2c8>, <Element a at 0x1e24509d308>]\n"
     ]
    }
   ],
   "source": [
    "result = html.xpath('//*')\n",
    "print(result)"
   ]
  },
  {
   "cell_type": "code",
   "execution_count": 3,
   "metadata": {},
   "outputs": [
    {
     "name": "stdout",
     "output_type": "stream",
     "text": [
      "[<Element li at 0x1e24509d088>, <Element li at 0x1e24509d188>, <Element li at 0x1e24509d208>, <Element li at 0x1e24509d248>, <Element li at 0x1e24509d2c8>]\n",
      "<Element li at 0x1e24509d088>\n"
     ]
    }
   ],
   "source": [
    "result = html.xpath('//li')\n",
    "print(result)\n",
    "print(result[0])"
   ]
  },
  {
   "cell_type": "markdown",
   "metadata": {},
   "source": [
    "### 子节点\n",
    "我们通过 / 或 // 即可查找元素的子节点或子孙节点。假如现在想选择 li 节点的所有直接 a 子节点，可以这样实现："
   ]
  },
  {
   "cell_type": "code",
   "execution_count": 4,
   "metadata": {},
   "outputs": [
    {
     "name": "stdout",
     "output_type": "stream",
     "text": [
      "[<Element a at 0x1e2450a2148>, <Element a at 0x1e2450a2188>, <Element a at 0x1e2450a21c8>, <Element a at 0x1e2450a2208>, <Element a at 0x1e2450a2248>]\n"
     ]
    }
   ],
   "source": [
    "result = html.xpath('//li/a')\n",
    "print(result)"
   ]
  },
  {
   "cell_type": "markdown",
   "metadata": {},
   "source": [
    "注意 `//`  和 `/` 的用法："
   ]
  },
  {
   "cell_type": "code",
   "execution_count": 5,
   "metadata": {},
   "outputs": [
    {
     "name": "stdout",
     "output_type": "stream",
     "text": [
      "[<Element a at 0x1e2450a2148>, <Element a at 0x1e2450a2188>, <Element a at 0x1e2450a21c8>, <Element a at 0x1e2450a2208>, <Element a at 0x1e2450a2248>]\n"
     ]
    }
   ],
   "source": [
    "result = html.xpath('//ul//a')\n",
    "print(result)"
   ]
  },
  {
   "cell_type": "code",
   "execution_count": 6,
   "metadata": {},
   "outputs": [
    {
     "name": "stdout",
     "output_type": "stream",
     "text": [
      "[]\n"
     ]
    }
   ],
   "source": [
    "result = html.xpath('//ul/a')\n",
    "print(result)"
   ]
  },
  {
   "cell_type": "markdown",
   "metadata": {},
   "source": [
    "### 父节点\n",
    "我们知道通过连续的 / 或 // 可以查找子节点或子孙节点，那么假如我们知道了子节点，怎样来查找父节点呢？这可以用.. 来实现。\n",
    "\n",
    "比如，现在首先选中 href 属性为 link4.html 的 a 节点，然后再获取其父节点，然后再获取其 class 属性，相关代码如下："
   ]
  },
  {
   "cell_type": "code",
   "execution_count": 7,
   "metadata": {},
   "outputs": [
    {
     "name": "stdout",
     "output_type": "stream",
     "text": [
      "['item-1']\n"
     ]
    }
   ],
   "source": [
    "result = html.xpath('//a[@href=\"link4.html\"]/../@class')\n",
    "print(result)"
   ]
  },
  {
   "cell_type": "markdown",
   "metadata": {},
   "source": [
    "### 属性匹配\n",
    "在选取的时候，我们还可以用 @符号进行属性过滤。比如，这里如果要选取 class 为 item-1 的 li 节点，可以这样实现:"
   ]
  },
  {
   "cell_type": "code",
   "execution_count": 8,
   "metadata": {},
   "outputs": [
    {
     "name": "stdout",
     "output_type": "stream",
     "text": [
      "[<Element li at 0x1e2450a68c8>, <Element li at 0x1e2450a6908>]\n"
     ]
    }
   ],
   "source": [
    "result = html.xpath('//li[@class=\"item-0\"]')\n",
    "print(result)"
   ]
  },
  {
   "cell_type": "markdown",
   "metadata": {},
   "source": [
    "### 文本获取\n",
    "我们用 XPath 中的 text() 方法获取节点中的文本，接下来尝试获取前面 li 节点中的文本，相关代码如下："
   ]
  },
  {
   "cell_type": "code",
   "execution_count": 10,
   "metadata": {},
   "outputs": [
    {
     "name": "stdout",
     "output_type": "stream",
     "text": [
      "['\\n     ']\n"
     ]
    }
   ],
   "source": [
    "result = html.xpath('//li[@class=\"item-0\"]/text()')\n",
    "print(result)"
   ]
  },
  {
   "cell_type": "code",
   "execution_count": 11,
   "metadata": {},
   "outputs": [
    {
     "name": "stdout",
     "output_type": "stream",
     "text": [
      "['first item', 'fifth item']\n"
     ]
    }
   ],
   "source": [
    "result = html.xpath('//li[@class=\"item-0\"]/a/text()')\n",
    "print(result)"
   ]
  },
  {
   "cell_type": "code",
   "execution_count": 12,
   "metadata": {},
   "outputs": [
    {
     "name": "stdout",
     "output_type": "stream",
     "text": [
      "['first item', 'fifth item', '\\n     ']\n"
     ]
    }
   ],
   "source": [
    "result = html.xpath('//li[@class=\"item-0\"]//text()')\n",
    "print(result)"
   ]
  },
  {
   "cell_type": "markdown",
   "metadata": {},
   "source": [
    "### 属性获取\n",
    "我们知道用 text() 可以获取节点内部文本，那么节点属性该怎样获取呢？其实还是用 @符号就可以。例如，我们想获取所有 li 节点下所有 a 节点的 href 属性，代码如下："
   ]
  },
  {
   "cell_type": "code",
   "execution_count": 13,
   "metadata": {},
   "outputs": [
    {
     "name": "stdout",
     "output_type": "stream",
     "text": [
      "['link1.html', 'link2.html', 'link3.html', 'link4.html', 'link5.html']\n"
     ]
    }
   ],
   "source": [
    "result = html.xpath('//li/a/@href')\n",
    "print(result)"
   ]
  },
  {
   "cell_type": "markdown",
   "metadata": {},
   "source": [
    "### 属性多值匹配\n",
    "有时候，某些节点的某个属性可能有多个值，例如："
   ]
  },
  {
   "cell_type": "code",
   "execution_count": 14,
   "metadata": {},
   "outputs": [
    {
     "name": "stdout",
     "output_type": "stream",
     "text": [
      "[]\n"
     ]
    }
   ],
   "source": [
    "text = '''\n",
    "<li class=\"li li-first\"><a href=\"link.html\">first item</a></li>\n",
    "'''\n",
    "html = etree.HTML(text)\n",
    "result = html.xpath('//li[@class=\"li\"]/a/text()')\n",
    "print(result)"
   ]
  },
  {
   "cell_type": "markdown",
   "metadata": {},
   "source": [
    "这时就需要用 contains() 函数了，代码可以改写如下："
   ]
  },
  {
   "cell_type": "code",
   "execution_count": 16,
   "metadata": {},
   "outputs": [
    {
     "name": "stdout",
     "output_type": "stream",
     "text": [
      "['first item']\n"
     ]
    }
   ],
   "source": [
    "text = '''\n",
    "<li class=\"li li-first\"><a href=\"link.html\">first item</a></li>\n",
    "'''\n",
    "html = etree.HTML(text)\n",
    "result = html.xpath('//li[contains(@class, \"li\")]/a/text()')\n",
    "print(result)"
   ]
  },
  {
   "cell_type": "markdown",
   "metadata": {},
   "source": [
    "### 多属性匹配\n",
    "另外，我们可能还遇到一种情况，那就是根据多个属性确定一个节点，这时就需要同时匹配多个属性。此时可以使用运算符 and 来连接，示例如下："
   ]
  },
  {
   "cell_type": "code",
   "execution_count": 17,
   "metadata": {},
   "outputs": [
    {
     "name": "stdout",
     "output_type": "stream",
     "text": [
      "['first item']\n"
     ]
    }
   ],
   "source": [
    "text = '''\n",
    "<li class=\"li li-first\" name=\"item\"><a href=\"link.html\">first item</a></li>\n",
    "'''\n",
    "html = etree.HTML(text)\n",
    "result = html.xpath('//li[contains(@class, \"li\") and @name=\"item\"]/a/text()')\n",
    "print(result)"
   ]
  },
  {
   "cell_type": "markdown",
   "metadata": {},
   "source": [
    "### 按序选择\n",
    "有时候，我们在选择的时候某些属性可能同时匹配了多个节点，但是只想要其中的某个节点，如第二个节点或者最后一个节点，这时该怎么办呢？\n",
    "\n",
    "这时可以利用中括号传入索引的方法获取特定次序的节点，示例如下："
   ]
  },
  {
   "cell_type": "code",
   "execution_count": 18,
   "metadata": {},
   "outputs": [
    {
     "name": "stdout",
     "output_type": "stream",
     "text": [
      "['first item']\n",
      "['fifth item']\n",
      "['first item', 'second item']\n",
      "['third item']\n"
     ]
    }
   ],
   "source": [
    "text = '''\n",
    "<div>\n",
    "    <ul>\n",
    "         <li class=\"item-0\"><a href=\"link1.html\">first item</a></li>\n",
    "         <li class=\"item-1\"><a href=\"link2.html\">second item</a></li>\n",
    "         <li class=\"item-inactive\"><a href=\"link3.html\">third item</a></li>\n",
    "         <li class=\"item-1\"><a href=\"link4.html\">fourth item</a></li>\n",
    "         <li class=\"item-0\"><a href=\"link5.html\">fifth item</a>\n",
    "     </ul>\n",
    " </div>\n",
    "'''\n",
    "html = etree.HTML(text)\n",
    "result = html.xpath('//li[1]/a/text()')\n",
    "print(result)\n",
    "result = html.xpath('//li[last()]/a/text()')\n",
    "print(result)\n",
    "result = html.xpath('//li[position()<3]/a/text()')\n",
    "print(result)\n",
    "result = html.xpath('//li[last()-2]/a/text()')\n",
    "print(result)"
   ]
  },
  {
   "cell_type": "markdown",
   "metadata": {},
   "source": [
    "### 节点轴选择\n",
    "XPath 提供了很多节点轴选择方法，包括获取子元素、兄弟元素、父元素、祖先元素等，示例如下："
   ]
  },
  {
   "cell_type": "code",
   "execution_count": 20,
   "metadata": {},
   "outputs": [
    {
     "name": "stdout",
     "output_type": "stream",
     "text": [
      "[<Element html at 0x1e244ef3fc8>, <Element body at 0x1e2450b9388>, <Element div at 0x1e2450b93c8>, <Element ul at 0x1e2450b9408>]\n",
      "[<Element div at 0x1e2450b93c8>]\n",
      "['item-0']\n",
      "[<Element a at 0x1e2450b9388>]\n",
      "[<Element span at 0x1e2450b9288>]\n",
      "[<Element a at 0x1e2450b9308>]\n",
      "[<Element li at 0x1e2450b9388>, <Element li at 0x1e2450b92c8>, <Element li at 0x1e2450b9448>, <Element li at 0x1e2450b93c8>]\n"
     ]
    }
   ],
   "source": [
    "text = '''\n",
    "<div>\n",
    "    <ul>\n",
    "         <li class=\"item-0\"><a href=\"link1.html\"><span>first item</span></a></li>\n",
    "         <li class=\"item-1\"><a href=\"link2.html\">second item</a></li>\n",
    "         <li class=\"item-inactive\"><a href=\"link3.html\">third item</a></li>\n",
    "         <li class=\"item-1\"><a href=\"link4.html\">fourth item</a></li>\n",
    "         <li class=\"item-0\"><a href=\"link5.html\">fifth item</a>\n",
    "     </ul>\n",
    " </div>\n",
    "'''\n",
    "html = etree.HTML(text)\n",
    "result = html.xpath('//li[1]/ancestor::*')\n",
    "print(result)\n",
    "result = html.xpath('//li[1]/ancestor::div')\n",
    "print(result)\n",
    "result = html.xpath('//li[1]/attribute::*')\n",
    "print(result)\n",
    "result = html.xpath('//li[1]/child::a[@href=\"link1.html\"]')\n",
    "print(result)\n",
    "result = html.xpath('//li[1]/descendant::span')\n",
    "print(result)\n",
    "result = html.xpath('//li[1]/following::*[2]')\n",
    "print(result)\n",
    "result = html.xpath('//li[1]/following-sibling::*') \n",
    "print(result)"
   ]
  },
  {
   "cell_type": "markdown",
   "metadata": {},
   "source": [
    "### 结语\n",
    "到现在为止，我们基本上把可能用到的 XPath 选择器介绍完了。XPath 功能非常强大，内置函数非常多，熟练使用之后，可以大大提升 HTML 信息的提取效率。\n",
    "\n",
    "如果想查询更多 XPath 的用法，可以查看：http://www.w3school.com.cn/xpath/index.asp。\n",
    "\n",
    "如果想查询更多 Python lxml 库的用法，可以查看 http://lxml.de/。\n",
    "\n"
   ]
  },
  {
   "cell_type": "code",
   "execution_count": null,
   "metadata": {},
   "outputs": [],
   "source": []
  }
 ],
 "metadata": {
  "kernelspec": {
   "display_name": "Python 3",
   "language": "python",
   "name": "python3"
  },
  "language_info": {
   "codemirror_mode": {
    "name": "ipython",
    "version": 3
   },
   "file_extension": ".py",
   "mimetype": "text/x-python",
   "name": "python",
   "nbconvert_exporter": "python",
   "pygments_lexer": "ipython3",
   "version": "3.7.6"
  }
 },
 "nbformat": 4,
 "nbformat_minor": 4
}
